{
 "cells": [
  {
   "cell_type": "markdown",
   "id": "dc7dabd9",
   "metadata": {},
   "source": [
    "## Facility Location Problems\n",
    "\n",
    "In this demo, we will consider the problem of robust facility location. "
   ]
  },
  {
   "cell_type": "code",
   "execution_count": null,
   "id": "32ac9980",
   "metadata": {},
   "outputs": [],
   "source": []
  }
 ],
 "metadata": {
  "kernelspec": {
   "display_name": "Julia 1.7.2",
   "language": "julia",
   "name": "julia-1.7"
  },
  "language_info": {
   "file_extension": ".jl",
   "mimetype": "application/julia",
   "name": "julia",
   "version": "1.7.2"
  }
 },
 "nbformat": 4,
 "nbformat_minor": 5
}
