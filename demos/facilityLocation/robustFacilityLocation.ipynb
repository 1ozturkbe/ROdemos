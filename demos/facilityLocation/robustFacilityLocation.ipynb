{
 "cells": [
  {
   "cell_type": "markdown",
   "id": "dc7dabd9",
   "metadata": {},
   "source": [
    "## Robust Facility Location Problem\n",
    "\n",
    "In this demo, we will consider the problem of robust facility location, based on some (uncertain) projections about demand. \n",
    "Let's consider the following, where we plan to pick a subset of 10 facility locations with indices $i \\in I$ to service 50 customers with indices $j \\in J$. \n",
    "Each facility has a capacity $s_i$, and a construction cost of $f_i$. \n",
    "The transportation costs $c_{i,j}$ are defined across each facility-customer pair $\\{i, j\\}$, and are variable depending on the quantity of goods moved. \n",
    "\n",
    "We begin by launching a Julia environment, adding some packages and plotting utilities, and generating some random (but interesting) data. "
   ]
  },
  {
   "cell_type": "code",
   "execution_count": null,
   "id": "2a479665",
   "metadata": {},
   "outputs": [],
   "source": [
    "# Packages\n",
    "using Pkg\n",
    "Pkg.activate(\".\")\n",
    "\n",
    "using JuMP, GLPK, Random, LinearAlgebra, DataFrames, PyPlot\n",
    "include(\"utils.jl\")\n",
    "\n",
    "n = 10 # Number of facilities\n",
    "m = 50 # Number of customers\n",
    "\n",
    "# Generating random data (please don't change the seeds.)\n",
    "facilities = 0.6.*rand(MersenneTwister(5), n,2) .+ 0.2;\n",
    "customers = rand(MersenneTwister(2), m, 2); \n",
    "c = [LinearAlgebra.norm(customers[i, :] .- facilities[j, :])[1] for j=1:n, i=1:m];\n",
    "f = rand(MersenneTwister(3), n)*1 .+ 5;\n",
    "s = rand(MersenneTwister(4), n)*2 .+ 15;\n",
    "d = rand(MersenneTwister(5), m)*0.5 .+ 0.75;"
   ]
  },
  {
   "cell_type": "markdown",
   "id": "6be0e98a",
   "metadata": {},
   "source": [
    "At first, we will assume that the demand $d_j$ at each demand node is fixed and deterministic. This we call the nominal problem, stored in `nominal.jl`, which we can optimize to see the nominal facility locations under perfect knowledge. "
   ]
  },
  {
   "cell_type": "code",
   "execution_count": null,
   "id": "32ac9980",
   "metadata": {},
   "outputs": [],
   "source": [
    "include(\"nominal.jl\")\n",
    "model, x, y = facility_model(c, f)\n",
    "optimize!(model)\n",
    "plt = plot_solution(model, x, y)"
   ]
  },
  {
   "cell_type": "markdown",
   "id": "296c150d",
   "metadata": {},
   "source": [
    "However, the real world is not so straightforward. In reality, we expect some demand uncertainty, which we model as $d_j + (Pz)_j$, where $d_j$ is the nominal demand, and the $(Pz)_j$ is the demand perturbation at node $j$. $z_j$ describes a demand perturbation at any node $j$, which affects all nearby nodes through the $P$ matrix, within a distance of $R_D = 0.25$.\n"
   ]
  },
  {
   "cell_type": "code",
   "execution_count": null,
   "id": "892bf9b4",
   "metadata": {},
   "outputs": [],
   "source": [
    "R_D = 0.25\n",
    "P = [0.2*exp(-1/R_D .*LinearAlgebra.norm(customers[i, :] .- customers[j, :])[1]) for j=1:m, i=1:m];\n",
    "P = (P .>= 0.2*exp(-1/R_D .* R_D)) .* P\n",
    "first(DataFrame(P, :auto), 5)"
   ]
  },
  {
   "cell_type": "markdown",
   "id": "028c4f16",
   "metadata": {},
   "source": [
    "We will assume that the uncertain parameters $z$ come from within a budget uncertainty set, $||z||_{\\infty} \\leq \\rho,~ ||z||_{1} \\leq \\Gamma$. The robust counterpart of the facility location problem can be found in `robust.jl`. For now, we will optimize the facility locations considering *static* transportation decisions, for $\\rho = 1$ and $\\Gamma = 5$. "
   ]
  },
  {
   "cell_type": "code",
   "execution_count": null,
   "id": "6d70a70e",
   "metadata": {},
   "outputs": [],
   "source": [
    "# Robust model (3.2)\n",
    "include(\"robust.jl\")\n",
    "ρ = 1\n",
    "Γ = 5\n",
    "model, x, y = robust_facility_model(c, f, ρ, Γ)\n",
    "optimize!(model)\n",
    "plt = plot_solution(model, x, y)"
   ]
  },
  {
   "cell_type": "markdown",
   "id": "04faa6e3",
   "metadata": {},
   "source": [
    "We can do a more in depth analysis of the **stability** of optimal facility locations by keeping the maximal demand perturbation $\\rho$ constant, but changing the size of $\\Gamma$ and reoptimizing. Running the cell below will allow us to compare the relative numbers and locations of our facilities as we change the size of our uncertainty set.  "
   ]
  },
  {
   "cell_type": "code",
   "execution_count": null,
   "id": "3e68dfa8",
   "metadata": {},
   "outputs": [],
   "source": [
    "Γs = collect(0:8)\n",
    "df = DataFrame(\"Gamma\" => [], \"f+c\" => [], \"f\" => [], \"c\" => [], \"nx\" => [])\n",
    "fig = figure(\"3x3_subplot\", figsize = (15, 15))\n",
    "for k = 1:length(Γs)\n",
    "    Γ = Γs[k]\n",
    "    model, x, y = robust_facility_model(c, f, ρ, Γ)\n",
    "    optimize!(model)\n",
    "    push!(df, Dict(\"Gamma\" => Γ,\n",
    "                     \"f+c\" => objective_value(model),   \n",
    "                     \"f\" => value(sum(f[j] * x[j] for j = 1:n)),\n",
    "                     \"c\" => value(sum(c[i, j] * y[i, j] for i=1:n, j=1:m)),\n",
    "                     \"nx\" => sum(value.(x))))\n",
    "    subplot(330 + k)\n",
    "    plot_solution(model, x, y)\n",
    "end"
   ]
  },
  {
   "cell_type": "markdown",
   "id": "daecec1a",
   "metadata": {},
   "source": [
    "One thing to note is that there are three stable sets of facility locations as we increase the overall size of the uncertainty that $\\Gamma$. We can also take a better look at the results by observing the table created in the for loop, which shows the magnitudes of the facility and transportation costs, as well as the number of facilities as we change $\\Gamma$.  "
   ]
  },
  {
   "cell_type": "code",
   "execution_count": null,
   "id": "11b9f467",
   "metadata": {},
   "outputs": [],
   "source": [
    "df"
   ]
  }
 ],
 "metadata": {
  "kernelspec": {
   "display_name": "Julia 1.7.2",
   "language": "julia",
   "name": "julia-1.7"
  },
  "language_info": {
   "file_extension": ".jl",
   "mimetype": "application/julia",
   "name": "julia",
   "version": "1.7.2"
  }
 },
 "nbformat": 4,
 "nbformat_minor": 5
}
