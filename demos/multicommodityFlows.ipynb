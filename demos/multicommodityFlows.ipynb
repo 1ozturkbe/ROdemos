{
 "cells": [
  {
   "cell_type": "markdown",
   "id": "fixed-improvement",
   "metadata": {},
   "source": [
    "# Multicommodity Flows - World Food Programme example\n",
    "\n",
    "The multicommodity network flow (MCNF) problem  is a canonical problem in the operations research literature. Before being able to implement robust versions of MCNFs, we need to learn its fundamental constraints. \n",
    "\n",
    "This demo looks at a World Food Program as it is deployed in Syria for food relief. We start by setting up our computational infrastructure. "
   ]
  },
  {
   "cell_type": "code",
   "execution_count": 1,
   "id": "existing-relative",
   "metadata": {},
   "outputs": [
    {
     "name": "stderr",
     "output_type": "stream",
     "text": [
      "\u001b[32m\u001b[1m  Activating\u001b[22m\u001b[39m project at `C:\\Users\\bozturk\\Documents\\Code\\ROdemos\\demos`\n"
     ]
    }
   ],
   "source": [
    "# IMPORTS (to prepare for the steps ahead)\n",
    "using Pkg\n",
    "Pkg.activate(\".\")\n",
    "using JuMP, GLPK, LinearAlgebra, DataFrames, CSV"
   ]
  },
  {
   "cell_type": "markdown",
   "id": "279e7e9d",
   "metadata": {},
   "source": [
    "I import the relevant data, as it is presented in HW3 of the 15.094 Robust Optimization class of Spring 2021. Please feel free to dig into the individual items, which describe the different types of nodes in the problem, the edges, the commodities, their costs and requirements of each demand node. "
   ]
  },
  {
   "cell_type": "code",
   "execution_count": 2,
   "id": "administrative-filing",
   "metadata": {},
   "outputs": [
    {
     "data": {
      "text/plain": [
       "Dict{String, Real} with 12 entries:\n",
       "  \"Calcium(mg)\"      => 1100\n",
       "  \"ThiamineB1(mg)\"   => 0.9\n",
       "  \"NicacinB3(mg)\"    => 12\n",
       "  \"Iron(mg)\"         => 22\n",
       "  \"Fat(g)\"           => 49.25\n",
       "  \"VitaminA(ug)\"     => 500\n",
       "  \"RiboflavinB2(mg)\" => 1.4\n",
       "  \"Folate(ug)\"       => 160\n",
       "  \"Protein(g)\"       => 52.5\n",
       "  \"Energy(kcal)\"     => 2100\n",
       "  \"VitaminC(mg)\"     => 28\n",
       "  \"Iodine(ug)\"       => 150"
      ]
     },
     "execution_count": 2,
     "metadata": {},
     "output_type": "execute_result"
    }
   ],
   "source": [
    "# CRUNCHING THE DATA\n",
    "# NODES (I = International supplier; R = Regional supplier; L = Local market (both supply and deliver); D = delivery point)\n",
    "N = []\n",
    "N_I = []     # set of international suppliers\n",
    "N_R = []     # set of regional suppliers\n",
    "N_L = []     # set of local markets\n",
    "N_D = []     # delivery points\n",
    "dem = Dict() # set of demands\n",
    "file = CSV.File(\"../homeworks/HW3/syria_nodes.csv\")\n",
    "for row in file\n",
    "    push!(N, row.Name)\n",
    "    if !ismissing(row.Demand)\n",
    "        dem[row.Name] = row.Demand\n",
    "    end\n",
    "    if row.Type == \"I\"\n",
    "        push!(N_I, row.Name)\n",
    "    elseif row.Type == \"R\"\n",
    "        push!(N_R, row.Name)\n",
    "    elseif row.Type == \"L\"\n",
    "        push!(N_L, row.Name) # Note: local markets supply and deliver goods at the given cost. \n",
    "    elseif row.Type == \"D\"\n",
    "        push!(N_D, row.Name)\n",
    "    else\n",
    "        throw(ErrorException(\"rowType $(row.Type) not supported.\"))\n",
    "    end\n",
    "end\n",
    "\n",
    "# EDGES\n",
    "hc = DataFrame(CSV.File(\"../homeworks/HW3/syria_edges.csv\"))\n",
    "\n",
    "# FOOD NUTRITION AND INTERNATIONAL COSTS\n",
    "fooddata = DataFrame(CSV.File(\"../homeworks/HW3/syria_foodnutrition.csv\"))\n",
    "intfoodcosts = select(fooddata, [:Food, :InternationalPrice])\n",
    "commodities = sort(Array(intfoodcosts.Food)) # Commodities\n",
    "select!(fooddata, Not([14,15]))\n",
    "fooddata = Dict(fooddata.Food .=> eachrow(fooddata)) \n",
    "# Note: fooddata contains the nutrients provided by 100g of a commodity!\n",
    "\n",
    "# FOOD COST ($/metric ton for regional suppliers)\n",
    "pc = DataFrame(CSV.File(\"../homeworks/HW3/syria_foodcost.csv\"))\n",
    "pc.Food = convert.(String63, pc.Food)\n",
    "for int_supply_node in N_I # adding international prices to pc for easier processing\n",
    "    for row in eachrow(intfoodcosts)\n",
    "        append!(pc, DataFrame(:A => N_I, :Food => row.Food, :Price => row.InternationalPrice))\n",
    "    end\n",
    "end\n",
    "pc = unique(pc)\n",
    "international_items = DataFrame([r for r in eachrow(pc) if r.A in N_I])\n",
    "regional_items =  DataFrame([r for r in eachrow(pc) if r.A in N_R])\n",
    "\n",
    "# FOOD REQUIREMENTS (avg. per person per day)\n",
    "foodreqs = DataFrame(CSV.File(\"../homeworks/HW3/syria_foodreq.csv\"))\n",
    "select!(foodreqs, Not(:Type))\n",
    "nutrients = String.(propertynames(foodreqs))\n",
    "foodreqs = Dict(string(pptname) => foodreqs[1, pptname] for pptname in propertynames(foodreqs))"
   ]
  },
  {
   "cell_type": "markdown",
   "id": "spare-independence",
   "metadata": {},
   "source": [
    "## Looking at the data\n",
    "\n",
    "Looking at the data is crucial for determining your variables and constraints. You learn:\n",
    "- How many nodes, and types of nodes are present, and \n",
    "- How many edges are available for flow. \n",
    "\n",
    "Please make sure to acquiant yourself with the data below before proceeding to looking at the formulation. "
   ]
  },
  {
   "cell_type": "code",
   "execution_count": 3,
   "id": "regulation-wednesday",
   "metadata": {},
   "outputs": [
    {
     "data": {
      "text/plain": [
       "15-element Vector{Any}:\n",
       " \"Gaziantep\"\n",
       " \"Beirut\"\n",
       " \"Amman\"\n",
       " \"Ar Raqqa\"\n",
       " \"Hassakeh\"\n",
       " \"Dara\"\n",
       " \"Dayr_Az_Zor\"\n",
       " \"Qamishli\"\n",
       " \"Homs\"\n",
       " \"Damascus\"\n",
       " \"Aleppo\"\n",
       " \"Jubb al-Jarrah\"\n",
       " \"Idleb\"\n",
       " \"As_Suweida\"\n",
       " \"Hama\""
      ]
     },
     "execution_count": 3,
     "metadata": {},
     "output_type": "execute_result"
    }
   ],
   "source": [
    "# Look at data here. N, nutrients, commodities, hc, pc, fooddata, foodreqs.\n",
    "N"
   ]
  },
  {
   "cell_type": "markdown",
   "id": "aging-flashing",
   "metadata": {},
   "source": [
    "## Optimization model creation\n",
    "\n",
    "The primary constraints of the problem are as follows, from 10000 feet:\n",
    "- Flow is preserved at all nodes. \n",
    "    - Additional sources at market nodes, N\\N_D. \n",
    "    - Sinks at demand nodes N_D. \n",
    "- All demand nodes N_D receive a food basket.\n",
    "- Flows are nonnegative on all edges.  \n",
    "- Some nutritional constraints are satisfied. \n",
    "\n",
    "It is really important not to get too bogged down in the mathematical formulation.  \n",
    " Big picture recommendations, before demonstration:\n",
    "- Start with low dimensional variables first, and build upwards. \n",
    "- Use auxiliary variables when intuitive and/or necessary. \n",
    "- Bonus: know some useful data structures (Pairs, Dicts, Arrays, DataFrames etc.).\n",
    "- Don't be afraid to check constraints by printing out their LHS/RHS.\n",
    "- Unbounded models are OK. However, it should be intuitive why they are unbounded. \n",
    "- Faulty models are REALLY hard to debug from results only. \n",
    "    - Use @asserts and other checks to make sure that elements of the code are right. "
   ]
  },
  {
   "cell_type": "code",
   "execution_count": 5,
   "id": "international-hudson",
   "metadata": {},
   "outputs": [
    {
     "data": {
      "text/latex": [
       "$$ -800 procurement_{Gaziantep,Beans} - 450 procurement_{Gaziantep,Bulgur} - 15000 procurement_{Gaziantep,Cheese} - 550 procurement_{Gaziantep,Chickpeas} - 800 procurement_{Gaziantep,Corn-soya blend (CSB)} - 500 procurement_{Gaziantep,Dates} - 1600 procurement_{Gaziantep,Dried skim milk (enriched) (DSM)} - 900 procurement_{Gaziantep,Fish} - 500 procurement_{Gaziantep,Lentils} - 300 procurement_{Gaziantep,Maize} - 300 procurement_{Gaziantep,Maize meal} - 1200 procurement_{Gaziantep,Meat} - 1200 procurement_{Gaziantep,Milk} - 1400 procurement_{Gaziantep,Oil} - 575 procurement_{Gaziantep,Rice} - 800 procurement_{Gaziantep,Salt} - 320 procurement_{Gaziantep,Sorghum/millet} - 1100 procurement_{Gaziantep,Soya-fortified bulgur wheat} - 900 procurement_{Gaziantep,Soya-fortified maize meal} - 1300 procurement_{Gaziantep,Soya-fortified sorghum grits} - 900 procurement_{Gaziantep,Soya-fortified wheat flour} - 1000 procurement_{Gaziantep,Sugar} - 300 procurement_{Gaziantep,Wheat} - 300 procurement_{Gaziantep,Wheat flour} - 850 procurement_{Gaziantep,Wheat-soya blend (WSB)} - 800 procurement_{Beirut,Beans} - 450 procurement_{Beirut,Bulgur} - 15000 procurement_{Beirut,Cheese} - 550 procurement_{Beirut,Chickpeas} - 800 procurement_{Beirut,Corn-soya blend (CSB)} - 500 procurement_{Beirut,Dates} - 1600 procurement_{Beirut,Dried skim milk (enriched) (DSM)} - 900 procurement_{Beirut,Fish} - 500 procurement_{Beirut,Lentils} - 300 procurement_{Beirut,Maize} - 300 procurement_{Beirut,Maize meal} - 1200 procurement_{Beirut,Meat} - 1200 procurement_{Beirut,Milk} - 1400 procurement_{Beirut,Oil} - 575 procurement_{Beirut,Rice} - 800 procurement_{Beirut,Salt} - 320 procurement_{Beirut,Sorghum/millet} - 1100 procurement_{Beirut,Soya-fortified bulgur wheat} - 900 procurement_{Beirut,Soya-fortified maize meal} - 1300 procurement_{Beirut,Soya-fortified sorghum grits} - 900 procurement_{Beirut,Soya-fortified wheat flour} - 1000 procurement_{Beirut,Sugar} - 300 procurement_{Beirut,Wheat} - 300 procurement_{Beirut,Wheat flour} - 850 procurement_{Beirut,Wheat-soya blend (WSB)} - 800 procurement_{Amman,Beans} - 450 procurement_{Amman,Bulgur} - 15000 procurement_{Amman,Cheese} - 550 procurement_{Amman,Chickpeas} - 800 procurement_{Amman,Corn-soya blend (CSB)} - 500 procurement_{Amman,Dates} - 1600 procurement_{Amman,Dried skim milk (enriched) (DSM)} - 900 procurement_{Amman,Fish} - 500 procurement_{Amman,Lentils} - 300 procurement_{Amman,Maize} - 300 procurement_{Amman,Maize meal} - 1200 procurement_{Amman,Meat} - 1200 procurement_{Amman,Milk} - 1400 procurement_{Amman,Oil} - 575 procurement_{Amman,Rice} - 800 procurement_{Amman,Salt} - 320 procurement_{Amman,Sorghum/millet} - 1100 procurement_{Amman,Soya-fortified bulgur wheat} - 900 procurement_{Amman,Soya-fortified maize meal} - 1300 procurement_{Amman,Soya-fortified sorghum grits} - 900 procurement_{Amman,Soya-fortified wheat flour} - 1000 procurement_{Amman,Sugar} - 300 procurement_{Amman,Wheat} - 300 procurement_{Amman,Wheat flour} - 850 procurement_{Amman,Wheat-soya blend (WSB)} - 1127.66 procurement_{Hassakeh,Beans} - 574.47 procurement_{Hassakeh,Bulgur} - 2000 procurement_{Hassakeh,Cheese} - 829.79 procurement_{Hassakeh,Chickpeas} - 1304.96 procurement_{Hassakeh,Dates} - 3488.59 procurement_{Hassakeh,Fish} - 638.3 procurement_{Hassakeh,Lentils} - 4574.47 procurement_{Hassakeh,Meat} - 496.45 procurement_{Hassakeh,Milk} - 978.72 procurement_{Hassakeh,Oil} - 1014.18 procurement_{Hassakeh,Rice} - 170.21 procurement_{Hassakeh,Salt} - 617.02 procurement_{Hassakeh,Sugar} - 425.53 procurement_{Hassakeh,Wheat flour} - 425.53 procurement_{Dara,Beans} - 489.36 procurement_{Dara,Bulgur} - 1659.57 procurement_{Dara,Cheese} - 893.62 procurement_{Dara,Chickpeas} - 1574.47 procurement_{Dara,Dates} - 4111.56 procurement_{Dara,Fish} - 723.4 procurement_{Dara,Lentils} - 4760.64 procurement_{Dara,Meat} - 340.43 procurement_{Dara,Milk} - 1106.38 procurement_{Dara,Oil} - 936.17 procurement_{Dara,Rice} - 255.32 procurement_{Dara,Salt} - 494.68 procurement_{Dara,Sugar} - 510.64 procurement_{Dara,Wheat flour} - 1184.4 procurement_{Dayr\\_Az\\_Zor,Beans} - 609.93 procurement_{Dayr\\_Az\\_Zor,Bulgur} - 1929.08 procurement_{Dayr\\_Az\\_Zor,Cheese} - 943.26 procurement_{Dayr\\_Az\\_Zor,Chickpeas} - 1645.39 procurement_{Dayr\\_Az\\_Zor,Dates} - 4447 procurement_{Dayr\\_Az\\_Zor,Fish} - 978.72 procurement_{Dayr\\_Az\\_Zor,Lentils} - 4336.88 procurement_{Dayr\\_Az\\_Zor,Meat} - 351.06 procurement_{Dayr\\_Az\\_Zor,Milk} - 1134.75 procurement_{Dayr\\_Az\\_Zor,Oil} - 822.7 procurement_{Dayr\\_Az\\_Zor,Rice} - 170.21 procurement_{Dayr\\_Az\\_Zor,Salt} - 531.91 procurement_{Dayr\\_Az\\_Zor,Sugar} - 592.2 procurement_{Dayr\\_Az\\_Zor,Wheat flour} - 1506.38 procurement_{Homs,Beans} - 536.17 procurement_{Homs,Bulgur} - 2127.66 procurement_{Homs,Cheese} - 1191.49 procurement_{Homs,Chickpeas} - 1702.13 procurement_{Homs,Dates} - 4416.33 procurement_{Homs,Fish} - 680.85 procurement_{Homs,Lentils} - 5191.49 procurement_{Homs,Meat} - 382.98 procurement_{Homs,Milk} - 1131.91 procurement_{Homs,Oil} - 885.11 procurement_{Homs,Rice} - 255.32 procurement_{Homs,Salt} - 425.53 procurement_{Homs,Sugar} - 442.55 procurement_{Homs,Wheat flour} - 1414.89 procurement_{Damascus,Beans} - 482.27 procurement_{Damascus,Bulgur} - 2085.11 procurement_{Damascus,Cheese} - 1000 procurement_{Damascus,Chickpeas} - 1702.13 procurement_{Damascus,Dates} - 4025.3 procurement_{Damascus,Fish} - 617.02 procurement_{Damascus,Lentils} - 4939.72 procurement_{Damascus,Meat} - 432.62 procurement_{Damascus,Milk} - 1070.21 procurement_{Damascus,Oil} - 730.5 procurement_{Damascus,Rice} - 198.58 procurement_{Damascus,Salt} - 469.5 procurement_{Damascus,Sugar} - 480.85 procurement_{Damascus,Wheat flour} - 882.98 procurement_{Aleppo,Beans} - 527.66 procurement_{Aleppo,Bulgur} - 2138.3 procurement_{Aleppo,Cheese} - 762.41 procurement_{Aleppo,Chickpeas} - 1475.18 procurement_{Aleppo,Dates} - 3479.01 procurement_{Aleppo,Fish} - 586.88 procurement_{Aleppo,Lentils} - 3800.41 procurement_{Aleppo,Meat} - 444.15 procurement_{Aleppo,Milk} - 936.88 procurement_{Aleppo,Oil} - 702.13 procurement_{Aleppo,Rice} - 254.08 procurement_{Aleppo,Salt} - 490.25 procurement_{Aleppo,Sugar} - 486.7 procurement_{Aleppo,Wheat flour} - 1421.99 procurement_{As\\_Suweida,Beans} - 815.6 procurement_{As\\_Suweida,Bulgur} - 2560.28 procurement_{As\\_Suweida,Cheese} - 1063.83 procurement_{As\\_Suweida,Chickpeas} - 2049.65 procurement_{As\\_Suweida,Dates} - 4562.01 procurement_{As\\_Suweida,Fish} - 624.11 procurement_{As\\_Suweida,Lentils} - 5175.53 procurement_{As\\_Suweida,Meat} - 429.08 procurement_{As\\_Suweida,Milk} - 1255.32 procurement_{As\\_Suweida,Oil} - 673.76 procurement_{As\\_Suweida,Rice} - 237.59 procurement_{As\\_Suweida,Salt} - 615.6 procurement_{As\\_Suweida,Sugar} - 560.28 procurement_{As\\_Suweida,Wheat flour} - 1361.7 procurement_{Hama,Beans} - 533.33 procurement_{Hama,Bulgur} - 2014.18 procurement_{Hama,Cheese} - 1163.12 procurement_{Hama,Chickpeas} - 1702.13 procurement_{Hama,Dates} - 4416.33 procurement_{Hama,Fish} - 666.67 procurement_{Hama,Lentils} - 5276.6 procurement_{Hama,Meat} - 425.53 procurement_{Hama,Milk} - 1072.34 procurement_{Hama,Oil} - 885.11 procurement_{Hama,Rice} - 255.32 procurement_{Hama,Salt} - 448.23 procurement_{Hama,Sugar} - 468.09 procurement_{Hama,Wheat flour} + procurement\\_cost = 0.0 $$"
      ],
      "text/plain": [
       "-800 procurement[Gaziantep,Beans] - 450 procurement[Gaziantep,Bulgur] - 15000 procurement[Gaziantep,Cheese] - 550 procurement[Gaziantep,Chickpeas] - 800 procurement[Gaziantep,Corn-soya blend (CSB)] - 500 procurement[Gaziantep,Dates] - 1600 procurement[Gaziantep,Dried skim milk (enriched) (DSM)] - 900 procurement[Gaziantep,Fish] - 500 procurement[Gaziantep,Lentils] - 300 procurement[Gaziantep,Maize] - 300 procurement[Gaziantep,Maize meal] - 1200 procurement[Gaziantep,Meat] - 1200 procurement[Gaziantep,Milk] - 1400 procurement[Gaziantep,Oil] - 575 procurement[Gaziantep,Rice] - 800 procurement[Gaziantep,Salt] - 320 procurement[Gaziantep,Sorghum/millet] - 1100 procurement[Gaziantep,Soya-fortified bulgur wheat] - 900 procurement[Gaziantep,Soya-fortified maize meal] - 1300 procurement[Gaziantep,Soya-fortified sorghum grits] - 900 procurement[Gaziantep,Soya-fortified wheat flour] - 1000 procurement[Gaziantep,Sugar] - 300 procurement[Gaziantep,Wheat] - 300 procurement[Gaziantep,Wheat flour] - 850 procurement[Gaziantep,Wheat-soya blend (WSB)] - 800 procurement[Beirut,Beans] - 450 procurement[Beirut,Bulgur] - 15000 procurement[Beirut,Cheese] - 550 procurement[Beirut,Chickpeas] - 800 procurement[Beirut,Corn-soya blend (CSB)] - 500 procurement[Beirut,Dates] - 1600 procurement[Beirut,Dried skim milk (enriched) (DSM)] - 900 procurement[Beirut,Fish] - 500 procurement[Beirut,Lentils] - 300 procurement[Beirut,Maize] - 300 procurement[Beirut,Maize meal] - 1200 procurement[Beirut,Meat] - 1200 procurement[Beirut,Milk] - 1400 procurement[Beirut,Oil] - 575 procurement[Beirut,Rice] - 800 procurement[Beirut,Salt] - 320 procurement[Beirut,Sorghum/millet] - 1100 procurement[Beirut,Soya-fortified bulgur wheat] - 900 procurement[Beirut,Soya-fortified maize meal] - 1300 procurement[Beirut,Soya-fortified sorghum grits] - 900 procurement[Beirut,Soya-fortified wheat flour] - 1000 procurement[Beirut,Sugar] - 300 procurement[Beirut,Wheat] - 300 procurement[Beirut,Wheat flour] - 850 procurement[Beirut,Wheat-soya blend (WSB)] - 800 procurement[Amman,Beans] - 450 procurement[Amman,Bulgur] - 15000 procurement[Amman,Cheese] - 550 procurement[Amman,Chickpeas] - 800 procurement[Amman,Corn-soya blend (CSB)] - 500 procurement[Amman,Dates] - 1600 procurement[Amman,Dried skim milk (enriched) (DSM)] - 900 procurement[Amman,Fish] - 500 procurement[Amman,Lentils] - 300 procurement[Amman,Maize] - 300 procurement[Amman,Maize meal] - 1200 procurement[Amman,Meat] - 1200 procurement[Amman,Milk] - 1400 procurement[Amman,Oil] - 575 procurement[Amman,Rice] - 800 procurement[Amman,Salt] - 320 procurement[Amman,Sorghum/millet] - 1100 procurement[Amman,Soya-fortified bulgur wheat] - 900 procurement[Amman,Soya-fortified maize meal] - 1300 procurement[Amman,Soya-fortified sorghum grits] - 900 procurement[Amman,Soya-fortified wheat flour] - 1000 procurement[Amman,Sugar] - 300 procurement[Amman,Wheat] - 300 procurement[Amman,Wheat flour] - 850 procurement[Amman,Wheat-soya blend (WSB)] - 1127.66 procurement[Hassakeh,Beans] - 574.47 procurement[Hassakeh,Bulgur] - 2000 procurement[Hassakeh,Cheese] - 829.79 procurement[Hassakeh,Chickpeas] - 1304.96 procurement[Hassakeh,Dates] - 3488.59 procurement[Hassakeh,Fish] - 638.3 procurement[Hassakeh,Lentils] - 4574.47 procurement[Hassakeh,Meat] - 496.45 procurement[Hassakeh,Milk] - 978.72 procurement[Hassakeh,Oil] - 1014.18 procurement[Hassakeh,Rice] - 170.21 procurement[Hassakeh,Salt] - 617.02 procurement[Hassakeh,Sugar] - 425.53 procurement[Hassakeh,Wheat flour] - 425.53 procurement[Dara,Beans] - 489.36 procurement[Dara,Bulgur] - 1659.57 procurement[Dara,Cheese] - 893.62 procurement[Dara,Chickpeas] - 1574.47 procurement[Dara,Dates] - 4111.56 procurement[Dara,Fish] - 723.4 procurement[Dara,Lentils] - 4760.64 procurement[Dara,Meat] - 340.43 procurement[Dara,Milk] - 1106.38 procurement[Dara,Oil] - 936.17 procurement[Dara,Rice] - 255.32 procurement[Dara,Salt] - 494.68 procurement[Dara,Sugar] - 510.64 procurement[Dara,Wheat flour] - 1184.4 procurement[Dayr_Az_Zor,Beans] - 609.93 procurement[Dayr_Az_Zor,Bulgur] - 1929.08 procurement[Dayr_Az_Zor,Cheese] - 943.26 procurement[Dayr_Az_Zor,Chickpeas] - 1645.39 procurement[Dayr_Az_Zor,Dates] - 4447 procurement[Dayr_Az_Zor,Fish] - 978.72 procurement[Dayr_Az_Zor,Lentils] - 4336.88 procurement[Dayr_Az_Zor,Meat] - 351.06 procurement[Dayr_Az_Zor,Milk] - 1134.75 procurement[Dayr_Az_Zor,Oil] - 822.7 procurement[Dayr_Az_Zor,Rice] - 170.21 procurement[Dayr_Az_Zor,Salt] - 531.91 procurement[Dayr_Az_Zor,Sugar] - 592.2 procurement[Dayr_Az_Zor,Wheat flour] - 1506.38 procurement[Homs,Beans] - 536.17 procurement[Homs,Bulgur] - 2127.66 procurement[Homs,Cheese] - 1191.49 procurement[Homs,Chickpeas] - 1702.13 procurement[Homs,Dates] - 4416.33 procurement[Homs,Fish] - 680.85 procurement[Homs,Lentils] - 5191.49 procurement[Homs,Meat] - 382.98 procurement[Homs,Milk] - 1131.91 procurement[Homs,Oil] - 885.11 procurement[Homs,Rice] - 255.32 procurement[Homs,Salt] - 425.53 procurement[Homs,Sugar] - 442.55 procurement[Homs,Wheat flour] - 1414.89 procurement[Damascus,Beans] - 482.27 procurement[Damascus,Bulgur] - 2085.11 procurement[Damascus,Cheese] - 1000 procurement[Damascus,Chickpeas] - 1702.13 procurement[Damascus,Dates] - 4025.3 procurement[Damascus,Fish] - 617.02 procurement[Damascus,Lentils] - 4939.72 procurement[Damascus,Meat] - 432.62 procurement[Damascus,Milk] - 1070.21 procurement[Damascus,Oil] - 730.5 procurement[Damascus,Rice] - 198.58 procurement[Damascus,Salt] - 469.5 procurement[Damascus,Sugar] - 480.85 procurement[Damascus,Wheat flour] - 882.98 procurement[Aleppo,Beans] - 527.66 procurement[Aleppo,Bulgur] - 2138.3 procurement[Aleppo,Cheese] - 762.41 procurement[Aleppo,Chickpeas] - 1475.18 procurement[Aleppo,Dates] - 3479.01 procurement[Aleppo,Fish] - 586.88 procurement[Aleppo,Lentils] - 3800.41 procurement[Aleppo,Meat] - 444.15 procurement[Aleppo,Milk] - 936.88 procurement[Aleppo,Oil] - 702.13 procurement[Aleppo,Rice] - 254.08 procurement[Aleppo,Salt] - 490.25 procurement[Aleppo,Sugar] - 486.7 procurement[Aleppo,Wheat flour] - 1421.99 procurement[As_Suweida,Beans] - 815.6 procurement[As_Suweida,Bulgur] - 2560.28 procurement[As_Suweida,Cheese] - 1063.83 procurement[As_Suweida,Chickpeas] - 2049.65 procurement[As_Suweida,Dates] - 4562.01 procurement[As_Suweida,Fish] - 624.11 procurement[As_Suweida,Lentils] - 5175.53 procurement[As_Suweida,Meat] - 429.08 procurement[As_Suweida,Milk] - 1255.32 procurement[As_Suweida,Oil] - 673.76 procurement[As_Suweida,Rice] - 237.59 procurement[As_Suweida,Salt] - 615.6 procurement[As_Suweida,Sugar] - 560.28 procurement[As_Suweida,Wheat flour] - 1361.7 procurement[Hama,Beans] - 533.33 procurement[Hama,Bulgur] - 2014.18 procurement[Hama,Cheese] - 1163.12 procurement[Hama,Chickpeas] - 1702.13 procurement[Hama,Dates] - 4416.33 procurement[Hama,Fish] - 666.67 procurement[Hama,Lentils] - 5276.6 procurement[Hama,Meat] - 425.53 procurement[Hama,Milk] - 1072.34 procurement[Hama,Oil] - 885.11 procurement[Hama,Rice] - 255.32 procurement[Hama,Salt] - 448.23 procurement[Hama,Sugar] - 468.09 procurement[Hama,Wheat flour] + procurement_cost == 0.0"
      ]
     },
     "execution_count": 5,
     "metadata": {},
     "output_type": "execute_result"
    }
   ],
   "source": [
    "# FINALLY CREATING THE MODEL\n",
    "m = Model(GLPK.Optimizer)\n",
    "# set_optimizer_attribute(m, \"GPL_MSG_OFF\", true)\n",
    "\n",
    "# START SIMPLE, with lower dimensional variables.\n",
    "\n",
    "# Procurement and delivery (data structures)\n",
    "procurement_links = unique([row.A => row.Food for row in eachrow(pc)])       # all places where we can procure food\n",
    "@variable(m, procurement[A = N, Food = commodities; (A => Food) in procurement_links] >= 0) # procurement in tons\n",
    "@variable(m, delivery[N_D, commodities] >= 0)                                               # delivery in tons\n",
    "\n",
    "# Total procurement cost (check your vectors)\n",
    "@variable(m, procurement_cost >= 0)\n",
    "@constraint(m, procurement_cost == sum(r[:Price] * procurement[r.A, r.Food] for r in eachrow(pc)))"
   ]
  },
  {
   "cell_type": "code",
   "execution_count": 6,
   "id": "reserved-sponsorship",
   "metadata": {},
   "outputs": [
    {
     "data": {
      "text/latex": [
       "$$ -585.06 transportation_{Gaziantep,Ar Raqqa} - 790.1 transportation_{Gaziantep,Hassakeh} - 1161.56 transportation_{Gaziantep,Dara} - 860.702 transportation_{Gaziantep,Dayr\\_Az\\_Zor} - 898.27 transportation_{Gaziantep,Qamishli} - 703.73 transportation_{Gaziantep,Jubb al-Jarrah} - 368.824 transportation_{Gaziantep,Idleb} - 931.336 transportation_{Beirut,Ar Raqqa} - 1364.532 transportation_{Beirut,Hassakeh} - 432.39 transportation_{Beirut,Dara} - 1100.652 transportation_{Beirut,Dayr\\_Az\\_Zor} - 1472.702 transportation_{Beirut,Qamishli} - 566.534 transportation_{Beirut,Jubb al-Jarrah} - 674.23 transportation_{Beirut,Idleb} - 1286.99 transportation_{Amman,Ar Raqqa} - 1672.452 transportation_{Amman,Hassakeh} - 200.974 transportation_{Amman,Dara} - 1305.474 transportation_{Amman,Dayr\\_Az\\_Zor} - 1828.356 transportation_{Amman,Qamishli} - 897.774 transportation_{Amman,Jubb al-Jarrah} - 1054.13 transportation_{Amman,Idleb} - 328.164 transportation_{Homs,Damascus} - 194.996 transportation_{Homs,Jubb al-Jarrah} - 305.146 transportation_{Homs,Idleb} - 92.016 transportation_{Homs,Hama} - 221.434 transportation_{Damascus,Dara} - 907.578 transportation_{Damascus,Dayr\\_Az\\_Zor} - 221.948 transportation_{Damascus,As\\_Suweida} - 418.98 transportation_{Aleppo,Ar Raqqa} - 741.322 transportation_{Aleppo,Hassakeh} - 849.492 transportation_{Aleppo,Qamishli} - 131.466 transportation_{Aleppo,Idleb} - 542.212 transportation_{Hama,Ar Raqqa} - 975.408 transportation_{Hama,Hassakeh} - 820.802 transportation_{Hama,Dayr\\_Az\\_Zor} - 1083.58 transportation_{Hama,Qamishli} - 197.006 transportation_{Hama,Jubb al-Jarrah} - 209.08 transportation_{Hama,Idleb} + transportation\\_cost = 0.0 $$"
      ],
      "text/plain": [
       "-585.06 transportation[Gaziantep,Ar Raqqa] - 790.1 transportation[Gaziantep,Hassakeh] - 1161.56 transportation[Gaziantep,Dara] - 860.702 transportation[Gaziantep,Dayr_Az_Zor] - 898.27 transportation[Gaziantep,Qamishli] - 703.73 transportation[Gaziantep,Jubb al-Jarrah] - 368.824 transportation[Gaziantep,Idleb] - 931.336 transportation[Beirut,Ar Raqqa] - 1364.532 transportation[Beirut,Hassakeh] - 432.39 transportation[Beirut,Dara] - 1100.652 transportation[Beirut,Dayr_Az_Zor] - 1472.702 transportation[Beirut,Qamishli] - 566.534 transportation[Beirut,Jubb al-Jarrah] - 674.23 transportation[Beirut,Idleb] - 1286.99 transportation[Amman,Ar Raqqa] - 1672.452 transportation[Amman,Hassakeh] - 200.974 transportation[Amman,Dara] - 1305.474 transportation[Amman,Dayr_Az_Zor] - 1828.356 transportation[Amman,Qamishli] - 897.774 transportation[Amman,Jubb al-Jarrah] - 1054.13 transportation[Amman,Idleb] - 328.164 transportation[Homs,Damascus] - 194.996 transportation[Homs,Jubb al-Jarrah] - 305.146 transportation[Homs,Idleb] - 92.016 transportation[Homs,Hama] - 221.434 transportation[Damascus,Dara] - 907.578 transportation[Damascus,Dayr_Az_Zor] - 221.948 transportation[Damascus,As_Suweida] - 418.98 transportation[Aleppo,Ar Raqqa] - 741.322 transportation[Aleppo,Hassakeh] - 849.492 transportation[Aleppo,Qamishli] - 131.466 transportation[Aleppo,Idleb] - 542.212 transportation[Hama,Ar Raqqa] - 975.408 transportation[Hama,Hassakeh] - 820.802 transportation[Hama,Dayr_Az_Zor] - 1083.58 transportation[Hama,Qamishli] - 197.006 transportation[Hama,Jubb al-Jarrah] - 209.08 transportation[Hama,Idleb] + transportation_cost == 0.0"
      ]
     },
     "execution_count": 6,
     "metadata": {},
     "output_type": "execute_result"
    }
   ],
   "source": [
    "# CREATE AUXILIARY VARIABLES when useful intuitively.\n",
    "\n",
    "# Transportation\n",
    "transportation_links = unique([row.A => row.B for row in eachrow(hc)]) # all possible UNIQUE edges\n",
    "@variable(m, transportation[A = N, B = N; (A => B) in transportation_links] >= 0)     # transportation in tons...\n",
    "@variable(m, F[A = N, B = N, W = commodities; (A => B) in transportation_links] >= 0) # linked directly to F, also in tons. \n",
    "for r in eachrow(hc) # Linking transportation cost to total food transported on an edge\n",
    "    @constraint(m, transportation[r.A, r.B] == sum(F[r.A, r.B, commodity] for commodity in commodities))\n",
    "end\n",
    "# Total transportation cost\n",
    "@variable(m, transportation_cost >= 0)\n",
    "@constraint(m, transportation_cost == sum(r.tCost * transportation[r.A, r.B] for r in eachrow(hc)))"
   ]
  },
  {
   "cell_type": "code",
   "execution_count": 7,
   "id": "adapted-financing",
   "metadata": {},
   "outputs": [],
   "source": [
    "# TAKE ADVANTAGE OF JuMP Dicts for loops!\n",
    "# Flow constraints\n",
    "for node in N\n",
    "    valid_sources = [link.first for link in transportation_links if link.second == node]\n",
    "    valid_sinks = [link.second for link in transportation_links if link.first == node]\n",
    "    for commodity in commodities\n",
    "        if (node =>  commodity) in procurement_links\n",
    "            @constraint(m, procurement[node, commodity] + sum(F[source, node, commodity] for source in valid_sources) == \n",
    "                                sum(F[node, sink, commodity] for sink in valid_sinks))\n",
    "        elseif node in N_D\n",
    "            @assert length(valid_sinks) == 0\n",
    "            @constraint(m, delivery[node, commodity] == sum(F[source, node, commodity] for source in valid_sources))\n",
    "        else\n",
    "            @constraint(m, sum(F[source, node, commodity] for source in valid_sources) == \n",
    "                                sum(F[node, sink, commodity] for sink in valid_sinks))\n",
    "        end\n",
    "    end\n",
    "end"
   ]
  },
  {
   "cell_type": "markdown",
   "id": "db47bc50",
   "metadata": {},
   "source": [
    "We have set up the commodity model, but we have yet to defined how many nutrients need to get to each beneficiary.  What we'd like to achieve is the optimal ratio of macro and micronutrients!\n",
    "\n",
    "The micronutrients and caloric requirements are defined in ```foodreqs```. We first ensure that each recipient satisfies the nutritional requirements as defined. \n"
   ]
  },
  {
   "cell_type": "code",
   "execution_count": 8,
   "id": "curious-fundamentals",
   "metadata": {},
   "outputs": [],
   "source": [
    "# Serving demand\n",
    "@variable(m, ration_pp[commodities] >= 0) # Rations (kg/person) of commodities\n",
    "@variable(m, nutrients_pp[nutrients] >= 0) # Total nutrients per person\n",
    "\n",
    "# Making sure the rations are good nutritionally (unit conversions!)\n",
    "for nutrient in nutrients # Note the factor of 10 for conversion of 100g to kg (since rations are in kg/pp)\n",
    "    @constraint(m, nutrients_pp[nutrient] == 10 * sum(ration_pp[commodity] * fooddata[commodity][nutrient] for commodity in commodities))\n",
    "    @constraint(m, nutrients_pp[nutrient] >= foodreqs[nutrient])\n",
    "end\n",
    "for node in N_D\n",
    "    for commodity in commodities\n",
    "        @constraint(m, 1000*delivery[node, commodity] >= dem[node] * ration_pp[commodity])\n",
    "    end\n",
    "end"
   ]
  },
  {
   "cell_type": "markdown",
   "id": "86c41da5",
   "metadata": {},
   "source": [
    "Now, we can set our objective to minimize total cost, solve our model, and take a look at food basket!"
   ]
  },
  {
   "cell_type": "code",
   "execution_count": 9,
   "id": "f9a2cbce",
   "metadata": {},
   "outputs": [
    {
     "data": {
      "text/plain": [
       "Dict{String, Float64} with 25 entries:\n",
       "  \"Corn-soya blend (CSB)\"            => 8.88178e-18\n",
       "  \"Chickpeas\"                        => 0.0\n",
       "  \"Soya-fortified bulgur wheat\"      => 0.0\n",
       "  \"Bulgur\"                           => 4.38994e-18\n",
       "  \"Beans\"                            => 0.0516747\n",
       "  \"Cheese\"                           => 0.0\n",
       "  \"Maize\"                            => 0.0\n",
       "  \"Soya-fortified sorghum grits\"     => 0.0\n",
       "  \"Wheat flour\"                      => 0.0\n",
       "  \"Milk\"                             => 0.0668016\n",
       "  \"Soya-fortified wheat flour\"       => 0.0\n",
       "  \"Maize meal\"                       => 0.0\n",
       "  \"Soya-fortified maize meal\"        => 0.0\n",
       "  \"Dried skim milk (enriched) (DSM)\" => 0.0\n",
       "  \"Sugar\"                            => 0.0\n",
       "  \"Fish\"                             => 0.0\n",
       "  \"Sorghum/millet\"                   => 0.0\n",
       "  \"Wheat\"                            => 0.0828805\n",
       "  \"Wheat-soya blend (WSB)\"           => 0.07\n",
       "  \"Dates\"                            => 0.0\n",
       "  \"Lentils\"                          => 0.0\n",
       "  \"Oil\"                              => 0.130384\n",
       "  \"Meat\"                             => 0.0\n",
       "  \"Rice\"                             => 0.0\n",
       "  \"Salt\"                             => 1.5e-5"
      ]
     },
     "execution_count": 9,
     "metadata": {},
     "output_type": "execute_result"
    }
   ],
   "source": [
    "# Setting objectives\n",
    "@objective(m, Min, procurement_cost + transportation_cost)\n",
    "optimize!(m)\n",
    "Dict(commodities .=> Array(value.(ration_pp)))"
   ]
  },
  {
   "cell_type": "markdown",
   "id": "ff516df5",
   "metadata": {},
   "source": [
    "Frankly, although this basket of foods satisfies the nutritional requirements, it seems unappetizing. Through careful examination, you would realize that the fat content (130g of oil!!) of this basket is way too high ; the macronutrient balance needs to be improved. So we add an additional set of diet constraints below, making sure to achieve a greater than 4:1 ratio by mass of carbohydrates to protein, and a greater than 4:1 ratio by mass of carbohydrates to fats. Let's see whether this changes our basket. "
   ]
  },
  {
   "cell_type": "code",
   "execution_count": 10,
   "id": "pacific-anxiety",
   "metadata": {},
   "outputs": [
    {
     "data": {
      "text/latex": [
       "$$ -4 nutrients\\_pp_{Fat(g)} + carbs\\_pp \\geq 0.0 $$"
      ],
      "text/plain": [
       "-4 nutrients_pp[Fat(g)] + carbs_pp >= 0.0"
      ]
     },
     "execution_count": 10,
     "metadata": {},
     "output_type": "execute_result"
    }
   ],
   "source": [
    "# Diet constraints\n",
    "# for the same total energy intake. The energy stored in a gram of carbohydrate, protein and fat are 4kcal/g, 4kcal/g and 9kcal/g respectively. \n",
    "@variable(m, carbs_pp >= 0) # carbohydrates in grams/pp\n",
    "@constraint(m, 4*carbs_pp == nutrients_pp[\"Energy(kcal)\"] - 4*nutrients_pp[\"Protein(g)\"] - 9*nutrients_pp[\"Fat(g)\"])\n",
    "@constraint(m, carbs_pp >= 4*nutrients_pp[\"Protein(g)\"])\n",
    "@constraint(m, carbs_pp >= 4*nutrients_pp[\"Fat(g)\"])"
   ]
  },
  {
   "cell_type": "code",
   "execution_count": 11,
   "id": "homeless-amino",
   "metadata": {},
   "outputs": [
    {
     "data": {
      "text/plain": [
       "Dict{String, Float64} with 25 entries:\n",
       "  \"Corn-soya blend (CSB)\"            => 0.07\n",
       "  \"Chickpeas\"                        => -2.36218e-18\n",
       "  \"Soya-fortified bulgur wheat\"      => 0.0\n",
       "  \"Bulgur\"                           => 0.0257037\n",
       "  \"Beans\"                            => 0.0362343\n",
       "  \"Cheese\"                           => 0.0\n",
       "  \"Maize\"                            => 0.0\n",
       "  \"Soya-fortified sorghum grits\"     => 0.0\n",
       "  \"Wheat flour\"                      => 0.0\n",
       "  \"Milk\"                             => 0.107979\n",
       "  \"Soya-fortified wheat flour\"       => 0.0\n",
       "  \"Maize meal\"                       => 0.0\n",
       "  \"Soya-fortified maize meal\"        => 0.0\n",
       "  \"Dried skim milk (enriched) (DSM)\" => 0.0\n",
       "  \"Sugar\"                            => 0.0918063\n",
       "  \"Fish\"                             => 0.0\n",
       "  \"Sorghum/millet\"                   => 0.0\n",
       "  \"Wheat\"                            => 0.0883501\n",
       "  \"Wheat-soya blend (WSB)\"           => 8.88178e-18\n",
       "  \"Dates\"                            => 0.0\n",
       "  \"Lentils\"                          => 0.0\n",
       "  \"Oil\"                              => 0.0649884\n",
       "  \"Meat\"                             => 0.0\n",
       "  \"Rice\"                             => 0.0\n",
       "  \"Salt\"                             => 1.5e-5"
      ]
     },
     "execution_count": 11,
     "metadata": {},
     "output_type": "execute_result"
    }
   ],
   "source": [
    "# Resolving, and showing the new and improved food basket. \n",
    "optimize!(m)\n",
    "Dict(commodities .=> Array(value.(ration_pp)))"
   ]
  },
  {
   "cell_type": "markdown",
   "id": "8657f231",
   "metadata": {},
   "source": [
    "This basket looks much better! There is a greater diversity in commodities and the quantity of oils is reduced. Success! Please see ```robustMulticommodityFlows.ipynb``` for a robustification of this problem to uncertainty. ***Work in progress***. "
   ]
  }
 ],
 "metadata": {
  "@webio": {
   "lastCommId": null,
   "lastKernelId": null
  },
  "kernelspec": {
   "display_name": "Julia 1.7.2",
   "language": "julia",
   "name": "julia-1.7"
  },
  "language_info": {
   "file_extension": ".jl",
   "mimetype": "application/julia",
   "name": "julia",
   "version": "1.7.2"
  }
 },
 "nbformat": 4,
 "nbformat_minor": 5
}
